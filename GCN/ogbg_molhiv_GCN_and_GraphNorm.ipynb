{
  "nbformat": 4,
  "nbformat_minor": 0,
  "metadata": {
    "colab": {
      "provenance": [],
      "gpuType": "T4"
    },
    "kernelspec": {
      "name": "python3",
      "display_name": "Python 3"
    },
    "language_info": {
      "name": "python"
    },
    "accelerator": "GPU"
  },
  "cells": [
    {
      "cell_type": "markdown",
      "metadata": {
        "id": "XuXWJLEm2UWS"
      },
      "source": [
        "# **Tutorial**"
      ]
    },
    {
      "cell_type": "markdown",
      "metadata": {
        "id": "8gzsP50bF6Gb"
      },
      "source": [
        "In this notebook, we will work to construct our own graph neural network using PyTorch Geometric (PyG) and then apply that model on  Open Graph Benchmark (OGB) dataset. This dataset will be used to benchmark your model's performance on graph property prediction task: predicting properties of entire graphs or subgraphs.\n",
        "\n",
        "**Note**: Make sure to **sequentially run all the cells in each section**, so that the intermediate variables / packages will carry over to the next cell\n",
        "\n",
        "We recommend you to run this notebook in colab so you don't need to go through dependecies installations!"
      ]
    },
    {
      "cell_type": "markdown",
      "metadata": {
        "id": "ZGKqVEbbMEzf"
      },
      "source": [
        "# Device\n",
        "You might need to use a GPU for this Colab to run quickly.\n",
        "\n",
        "Please click `Runtime` and then `Change runtime type`. Then set the `hardware accelerator` to **GPU**."
      ]
    },
    {
      "cell_type": "markdown",
      "metadata": {
        "id": "OCK7krJdp4o8"
      },
      "source": [
        "# Setup\n",
        "Installation of PyG on Colab can be a little bit tricky. Firstly, check which version of PyTorch you are running. Copy the version of PyTorch and paste it to the url in the cell below"
      ]
    },
    {
      "cell_type": "code",
      "execution_count": 1,
      "metadata": {
        "id": "2vkP8pA1qBE5",
        "colab": {
          "base_uri": "https://localhost:8080/"
        },
        "outputId": "22048293-85f3-48f7-96f1-eee74a7a647c"
      },
      "outputs": [
        {
          "output_type": "stream",
          "name": "stdout",
          "text": [
            "PyTorch has version 2.1.0+cu118\n"
          ]
        }
      ],
      "source": [
        "import torch\n",
        "import os\n",
        "print(\"PyTorch has version {}\".format(torch.__version__))"
      ]
    },
    {
      "cell_type": "markdown",
      "metadata": {
        "id": "L6d22O6DqGSZ"
      },
      "source": [
        "Download the necessary packages for PyG. Make sure that your version of torch matches the output from the cell above. In case of any issues, more information can be found on the [PyG's installation page](https://pytorch-geometric.readthedocs.io/en/latest/notes/installation.html)."
      ]
    },
    {
      "cell_type": "code",
      "source": [
        "!pip install torch-scatter -f https://pytorch-geometric.com/whl/torch-2.1.0+cu118.html\n",
        "!pip install torch-sparse -f https://pytorch-geometric.com/whl/torch-2.1.0+cu118.html\n",
        "!pip install torch-geometric\n",
        "!pip install ogb"
      ],
      "metadata": {
        "id": "e9jYvrWe14X4"
      },
      "execution_count": null,
      "outputs": []
    },
    {
      "cell_type": "markdown",
      "source": [
        "# Dataset downloading"
      ],
      "metadata": {
        "id": "zZiRG81hF_so"
      }
    },
    {
      "cell_type": "code",
      "source": [
        "import torch_geometric.transforms as T\n",
        "from ogb.graphproppred import PygGraphPropPredDataset\n",
        "\n",
        "dataset_name = 'ogbg-molhiv'\n",
        "# Load the dataset and transform it to sparse tensor\n",
        "dataset = PygGraphPropPredDataset(name=dataset_name,\n",
        "                                transform=T.ToSparseTensor())\n",
        "print('The {} dataset has {} graph'.format(dataset_name, len(dataset)))\n",
        "\n",
        "# Extract the graph\n",
        "print(\"Example of graph:\", dataset[0])\n",
        "\n",
        "device = 'cuda' if torch.cuda.is_available() else 'cpu'\n",
        "\n",
        "# If you use GPU, the device should be cuda\n",
        "print('Device: {}'.format(device))"
      ],
      "metadata": {
        "colab": {
          "base_uri": "https://localhost:8080/"
        },
        "id": "i8WrsKP1Jiqc",
        "outputId": "55622c10-8af8-4d2f-e565-8320cd37f75f"
      },
      "execution_count": 3,
      "outputs": [
        {
          "output_type": "stream",
          "name": "stdout",
          "text": [
            "Downloading http://snap.stanford.edu/ogb/data/graphproppred/csv_mol_download/hiv.zip\n"
          ]
        },
        {
          "output_type": "stream",
          "name": "stderr",
          "text": [
            "Downloaded 0.00 GB: 100%|██████████| 3/3 [00:03<00:00,  1.12s/it]\n",
            "Processing...\n"
          ]
        },
        {
          "output_type": "stream",
          "name": "stdout",
          "text": [
            "Extracting dataset/hiv.zip\n",
            "Loading necessary files...\n",
            "This might take a while.\n",
            "Processing graphs...\n"
          ]
        },
        {
          "output_type": "stream",
          "name": "stderr",
          "text": [
            "100%|██████████| 41127/41127 [00:01<00:00, 33102.96it/s]\n"
          ]
        },
        {
          "output_type": "stream",
          "name": "stdout",
          "text": [
            "Converting graphs into PyG objects...\n"
          ]
        },
        {
          "output_type": "stream",
          "name": "stderr",
          "text": [
            "100%|██████████| 41127/41127 [00:04<00:00, 10120.90it/s]\n"
          ]
        },
        {
          "output_type": "stream",
          "name": "stdout",
          "text": [
            "Saving...\n"
          ]
        },
        {
          "output_type": "stream",
          "name": "stderr",
          "text": [
            "Done!\n"
          ]
        },
        {
          "output_type": "stream",
          "name": "stdout",
          "text": [
            "The ogbg-molhiv dataset has 41127 graph\n",
            "Example of graph: Data(edge_attr=[40, 3], x=[19, 9], y=[1, 1], num_nodes=19, adj_t=[19, 19, nnz=40])\n",
            "Device: cuda\n"
          ]
        }
      ]
    },
    {
      "cell_type": "markdown",
      "source": [
        "# Examples from dataset\n",
        "1 - Molecule inhibits HIV virus replication. 0 - Not"
      ],
      "metadata": {
        "id": "N3eCqjQM9tTo"
      }
    },
    {
      "cell_type": "code",
      "source": [
        "import networkx as nx\n",
        "import matplotlib.pyplot as plt\n",
        "import random\n",
        "plt.rcParams[\"figure.figsize\"] = (14,10)\n",
        "\n",
        "def visualize_graphs(graphs, labels):\n",
        "    for i in range(441, 449):\n",
        "      G=nx.from_numpy_array(graphs[i-441])\n",
        "      ax = plt.subplot(i)\n",
        "      ax.set_title(labels[i-441])\n",
        "      nx.draw(G, node_color='b',node_size=20)\n",
        "    plt.show()\n",
        "\n",
        "molecules = random.choices(dataset, k = 8)\n",
        "graphs = [i[\"adj_t\"].to_dense().numpy() for i in molecules]\n",
        "labels = [i[\"y\"][0].numpy()[0] for i in molecules]\n",
        "print(labels)\n",
        "visualize_graphs(graphs, labels)"
      ],
      "metadata": {
        "colab": {
          "base_uri": "https://localhost:8080/",
          "height": 444
        },
        "id": "jqVJFla60aAG",
        "outputId": "838863d7-7bc4-491c-f6a1-226bc1c586ad"
      },
      "execution_count": 93,
      "outputs": [
        {
          "output_type": "stream",
          "name": "stdout",
          "text": [
            "[0, 0, 0, 1, 1, 0, 0, 0]\n"
          ]
        },
        {
          "output_type": "display_data",
          "data": {
            "text/plain": [
              "<Figure size 1400x1000 with 8 Axes>"
            ],
            "image/png": "[encoded data removed]"
          },
          "metadata": {}
        }
      ]
    },
    {
      "cell_type": "markdown",
      "source": [
        "# GCN + GraphNorm Model\n",
        "As our model we will use combination of Graph convolution network and Graph Norm. With that method model converge much faster and achieve better generalization performance."
      ],
      "metadata": {
        "id": "Oca_n4DeGXBB"
      }
    },
    {
      "cell_type": "code",
      "source": [
        "from torch_geometric.nn.norm import GraphNorm\n",
        "\n",
        "class GCN(torch.nn.Module):\n",
        "    def __init__(self, input_dim, hidden_dim, output_dim, num_layers,\n",
        "                 dropout):\n",
        "        super(GCN, self).__init__()\n",
        "\n",
        "        # Graph norm layer\n",
        "        self.graph_norm = GraphNorm(input_dim)\n",
        "\n",
        "        # A list of GCNConv layers\n",
        "        self.convs = torch.nn.ModuleList()\n",
        "        self.convs.append(GCNConv(input_dim, hidden_dim))\n",
        "        for _ in range(num_layers -2):\n",
        "          self.convs.append(GCNConv(hidden_dim, hidden_dim))\n",
        "        self.convs.append(GCNConv(hidden_dim, output_dim))\n",
        "\n",
        "        # A list of 1D batch normalization layers\n",
        "        self.bns = torch.nn.ModuleList()\n",
        "        for _ in range(num_layers - 1):\n",
        "          self.bns.append(torch.nn.BatchNorm1d(hidden_dim))\n",
        "        self.dropout = dropout\n",
        "\n",
        "        # Linear layer\n",
        "        self.linear = torch.nn.Linear(output_dim, 1)\n",
        "\n",
        "    def reset_parameters(self):\n",
        "        for conv in self.convs:\n",
        "            conv.reset_parameters()\n",
        "        for bn in self.bns:\n",
        "            bn.reset_parameters()\n",
        "        self.graph_norm.reset_parameters()\n",
        "\n",
        "    def forward(self, x, adj_t, batch):\n",
        "\n",
        "        out = None\n",
        "        x = self.graph_norm(x, batch)\n",
        "\n",
        "        for i in range(len(self.convs) - 1):\n",
        "          x = self.convs[i](x, adj_t)\n",
        "          x = self.bns[i](x)\n",
        "          x = F.relu(x)\n",
        "          x = F.dropout(x, self.dropout, training=self.training)\n",
        "        x = self.convs[len(self.convs) - 1](x, adj_t)\n",
        "\n",
        "        x = global_mean_pool(x, batch)\n",
        "        x = self.linear(x)\n",
        "        out = x\n",
        "\n",
        "        return out"
      ],
      "metadata": {
        "id": "CsJfXkPIOQyn"
      },
      "execution_count": 4,
      "outputs": []
    },
    {
      "cell_type": "markdown",
      "source": [
        "# Training arguments"
      ],
      "metadata": {
        "id": "MzikyYnYGdBI"
      }
    },
    {
      "cell_type": "code",
      "source": [
        "import torch\n",
        "from torch_geometric.data import DataLoader\n",
        "from torch_geometric.nn import GCNConv\n",
        "import torch.nn.functional as F\n",
        "import numpy as np\n",
        "from torch_geometric.nn.pool import global_mean_pool\n",
        "from tqdm import tqdm\n",
        "\n",
        "split_idx = dataset.get_idx_split()\n",
        "train_loader = DataLoader(dataset[split_idx[\"train\"]], batch_size=64, shuffle=True)\n",
        "valid_loader = DataLoader(dataset[split_idx[\"valid\"]], batch_size=64, shuffle=False)\n",
        "test_loader = DataLoader(dataset[split_idx[\"test\"]], batch_size=64, shuffle=False)\n",
        "\n",
        "args = {\n",
        "      'device': device,\n",
        "      'num_layers': 5,\n",
        "      'hidden_dim': 1024,\n",
        "      'dropout': 0.2,\n",
        "      'lr': 0.005,\n",
        "      'epochs': 45,\n",
        "      \"out_channels\": 128,\n",
        "  }\n",
        "\n",
        "model = GCN(dataset.num_node_features, args['hidden_dim'],\n",
        "            args[\"out_channels\"], args['num_layers'],\n",
        "            args['dropout']).to(device)\n",
        "\n",
        "# Loss and optimizer\n",
        "criterion = torch.nn.BCEWithLogitsLoss()\n",
        "optimizer = torch.optim.Adam(model.parameters(), lr=args['lr'])"
      ],
      "metadata": {
        "id": "vVT907oHHqhT",
        "colab": {
          "base_uri": "https://localhost:8080/"
        },
        "outputId": "fece9a9c-946e-49a5-c4bb-f7997793432d"
      },
      "execution_count": 30,
      "outputs": [
        {
          "output_type": "stream",
          "name": "stderr",
          "text": [
            "/usr/local/lib/python3.10/dist-packages/torch_geometric/deprecation.py:22: UserWarning: 'data.DataLoader' is deprecated, use 'loader.DataLoader' instead\n",
            "  warnings.warn(out)\n"
          ]
        }
      ]
    },
    {
      "cell_type": "markdown",
      "source": [
        "# Train/eval functions"
      ],
      "metadata": {
        "id": "YKsaI0FvGkt-"
      }
    },
    {
      "cell_type": "code",
      "source": [
        "from sklearn.metrics import accuracy_score, f1_score, roc_auc_score\n",
        "# Training loop\n",
        "def train():\n",
        "  model.train()\n",
        "  train_loss = []\n",
        "  for data in tqdm(train_loader, total=len(train_loader)):\n",
        "      optimizer.zero_grad()\n",
        "      data = data.to(device)\n",
        "      data.adj_t = data.adj_t.to_symmetric()\n",
        "      data.x = data.x.float()\n",
        "      out = model(data.x, data.adj_t, data.batch)\n",
        "      loss = criterion(out, data.y.view(-1, 1).to(torch.float32))\n",
        "      loss.backward()\n",
        "      optimizer.step()\n",
        "      train_loss.append(loss.item())\n",
        "\n",
        "  return sum(train_loss)/len(train_loss)\n",
        "\n",
        "# Evaluation\n",
        "def evaluate(model, loader, display=False):\n",
        "  model.eval()\n",
        "  with torch.no_grad():\n",
        "      y_true = []\n",
        "      y_pred = []\n",
        "      for data in loader:\n",
        "          data = data.to(device)\n",
        "          data.x = data.x.float()\n",
        "          data.adj_t = data.adj_t.to_symmetric()\n",
        "          out = model(data.x, data.adj_t, data.batch)\n",
        "          y_true.append(data.y.view(-1).cpu().numpy())\n",
        "          y_pred.append((out > 0.5).view(-1).cpu().numpy())\n",
        "\n",
        "  y_true = np.concatenate(y_true)\n",
        "  y_pred = np.concatenate(y_pred)\n",
        "\n",
        "  # Evaluate using appropriate metrics (e.g., accuracy, F1 score, ROC AUC)\n",
        "  if display:\n",
        "    print(f\"ROC AUC Score: {roc_auc_score(y_true, y_pred)}\")\n",
        "    print(f\"F1 Score: {f1_score(y_true, y_pred)}\")\n",
        "    print(f\"Accuracy: {accuracy_score(y_true, y_pred)}\")\n",
        "  else:\n",
        "    return roc_auc_score(y_true, y_pred)"
      ],
      "metadata": {
        "id": "_Y6geBHZFmqo"
      },
      "execution_count": 31,
      "outputs": []
    },
    {
      "cell_type": "markdown",
      "source": [
        "# Training"
      ],
      "metadata": {
        "id": "fagMqHlKK_bU"
      }
    },
    {
      "cell_type": "code",
      "source": [
        "import copy\n",
        "best_model = None\n",
        "best_valid_roc_auc = 0\n",
        "for epoch in range(args[\"epochs\"]):\n",
        "  train_loss = train()\n",
        "  roc_auc_val = evaluate(model, valid_loader)\n",
        "  print(f\"Epoch #{epoch + 1}. Train Loss: {train_loss}. ROC_AUC_val: {roc_auc_val}\")\n",
        "  if roc_auc_val > best_valid_roc_auc:\n",
        "    best_valid_roc_auc = roc_auc_val\n",
        "    best_model = copy.deepcopy(model)"
      ],
      "metadata": {
        "colab": {
          "base_uri": "https://localhost:8080/"
        },
        "id": "mT9Sc2KrYA1I",
        "outputId": "e9abf24f-5b2f-4ace-b5eb-3bcafb6aae0e"
      },
      "execution_count": 32,
      "outputs": [
        {
          "output_type": "stream",
          "name": "stderr",
          "text": [
            "100%|██████████| 515/515 [00:30<00:00, 17.15it/s]\n"
          ]
        },
        {
          "output_type": "stream",
          "name": "stdout",
          "text": [
            "Epoch #1. Train Loss: 0.1732360893408361. ROC_AUC_val: 0.5\n"
          ]
        },
        {
          "output_type": "stream",
          "name": "stderr",
          "text": [
            "100%|██████████| 515/515 [00:27<00:00, 19.02it/s]\n"
          ]
        },
        {
          "output_type": "stream",
          "name": "stdout",
          "text": [
            "Epoch #2. Train Loss: 0.1558360968870156. ROC_AUC_val: 0.5\n"
          ]
        },
        {
          "output_type": "stream",
          "name": "stderr",
          "text": [
            "100%|██████████| 515/515 [00:25<00:00, 20.53it/s]\n"
          ]
        },
        {
          "output_type": "stream",
          "name": "stdout",
          "text": [
            "Epoch #3. Train Loss: 0.15455951833898582. ROC_AUC_val: 0.5\n"
          ]
        },
        {
          "output_type": "stream",
          "name": "stderr",
          "text": [
            "100%|██████████| 515/515 [00:25<00:00, 20.36it/s]\n"
          ]
        },
        {
          "output_type": "stream",
          "name": "stdout",
          "text": [
            "Epoch #4. Train Loss: 0.15156240969606974. ROC_AUC_val: 0.5\n"
          ]
        },
        {
          "output_type": "stream",
          "name": "stderr",
          "text": [
            "100%|██████████| 515/515 [00:25<00:00, 20.23it/s]\n"
          ]
        },
        {
          "output_type": "stream",
          "name": "stdout",
          "text": [
            "Epoch #5. Train Loss: 0.14758515216193152. ROC_AUC_val: 0.5\n"
          ]
        },
        {
          "output_type": "stream",
          "name": "stderr",
          "text": [
            "100%|██████████| 515/515 [00:25<00:00, 20.25it/s]\n"
          ]
        },
        {
          "output_type": "stream",
          "name": "stdout",
          "text": [
            "Epoch #6. Train Loss: 0.14439261311176912. ROC_AUC_val: 0.5\n"
          ]
        },
        {
          "output_type": "stream",
          "name": "stderr",
          "text": [
            "100%|██████████| 515/515 [00:25<00:00, 20.42it/s]\n"
          ]
        },
        {
          "output_type": "stream",
          "name": "stdout",
          "text": [
            "Epoch #7. Train Loss: 0.14257688249271472. ROC_AUC_val: 0.5\n"
          ]
        },
        {
          "output_type": "stream",
          "name": "stderr",
          "text": [
            "100%|██████████| 515/515 [00:25<00:00, 20.55it/s]\n"
          ]
        },
        {
          "output_type": "stream",
          "name": "stdout",
          "text": [
            "Epoch #8. Train Loss: 0.14010270839032618. ROC_AUC_val: 0.5178984788359788\n"
          ]
        },
        {
          "output_type": "stream",
          "name": "stderr",
          "text": [
            "100%|██████████| 515/515 [00:25<00:00, 20.20it/s]\n"
          ]
        },
        {
          "output_type": "stream",
          "name": "stdout",
          "text": [
            "Epoch #9. Train Loss: 0.1403826916029731. ROC_AUC_val: 0.49987599206349204\n"
          ]
        },
        {
          "output_type": "stream",
          "name": "stderr",
          "text": [
            "100%|██████████| 515/515 [00:25<00:00, 20.51it/s]\n"
          ]
        },
        {
          "output_type": "stream",
          "name": "stdout",
          "text": [
            "Epoch #10. Train Loss: 0.13752084784209728. ROC_AUC_val: 0.5\n"
          ]
        },
        {
          "output_type": "stream",
          "name": "stderr",
          "text": [
            "100%|██████████| 515/515 [00:25<00:00, 20.33it/s]\n"
          ]
        },
        {
          "output_type": "stream",
          "name": "stdout",
          "text": [
            "Epoch #11. Train Loss: 0.13465864767582672. ROC_AUC_val: 0.5\n"
          ]
        },
        {
          "output_type": "stream",
          "name": "stderr",
          "text": [
            "100%|██████████| 515/515 [00:25<00:00, 20.46it/s]\n"
          ]
        },
        {
          "output_type": "stream",
          "name": "stdout",
          "text": [
            "Epoch #12. Train Loss: 0.13099653404929396. ROC_AUC_val: 0.5876322751322752\n"
          ]
        },
        {
          "output_type": "stream",
          "name": "stderr",
          "text": [
            "100%|██████████| 515/515 [00:25<00:00, 20.04it/s]\n"
          ]
        },
        {
          "output_type": "stream",
          "name": "stdout",
          "text": [
            "Epoch #13. Train Loss: 0.1310313974009845. ROC_AUC_val: 0.5061728395061729\n"
          ]
        },
        {
          "output_type": "stream",
          "name": "stderr",
          "text": [
            "100%|██████████| 515/515 [00:25<00:00, 19.98it/s]\n"
          ]
        },
        {
          "output_type": "stream",
          "name": "stdout",
          "text": [
            "Epoch #14. Train Loss: 0.12954778296927225. ROC_AUC_val: 0.5123456790123457\n"
          ]
        },
        {
          "output_type": "stream",
          "name": "stderr",
          "text": [
            "100%|██████████| 515/515 [00:25<00:00, 20.47it/s]\n"
          ]
        },
        {
          "output_type": "stream",
          "name": "stdout",
          "text": [
            "Epoch #15. Train Loss: 0.1258263058363668. ROC_AUC_val: 0.6034501763668431\n"
          ]
        },
        {
          "output_type": "stream",
          "name": "stderr",
          "text": [
            "100%|██████████| 515/515 [00:25<00:00, 20.14it/s]\n"
          ]
        },
        {
          "output_type": "stream",
          "name": "stdout",
          "text": [
            "Epoch #16. Train Loss: 0.125962246158748. ROC_AUC_val: 0.5540674603174603\n"
          ]
        },
        {
          "output_type": "stream",
          "name": "stderr",
          "text": [
            "100%|██████████| 515/515 [00:25<00:00, 20.21it/s]\n"
          ]
        },
        {
          "output_type": "stream",
          "name": "stdout",
          "text": [
            "Epoch #17. Train Loss: 0.12304355512436443. ROC_AUC_val: 0.5660411155202821\n"
          ]
        },
        {
          "output_type": "stream",
          "name": "stderr",
          "text": [
            "100%|██████████| 515/515 [00:26<00:00, 19.28it/s]\n"
          ]
        },
        {
          "output_type": "stream",
          "name": "stdout",
          "text": [
            "Epoch #18. Train Loss: 0.12228441284155672. ROC_AUC_val: 0.6220927028218695\n"
          ]
        },
        {
          "output_type": "stream",
          "name": "stderr",
          "text": [
            "100%|██████████| 515/515 [00:25<00:00, 19.96it/s]\n"
          ]
        },
        {
          "output_type": "stream",
          "name": "stdout",
          "text": [
            "Epoch #19. Train Loss: 0.12095664960232753. ROC_AUC_val: 0.5981453924162258\n"
          ]
        },
        {
          "output_type": "stream",
          "name": "stderr",
          "text": [
            "100%|██████████| 515/515 [00:25<00:00, 20.59it/s]\n"
          ]
        },
        {
          "output_type": "stream",
          "name": "stdout",
          "text": [
            "Epoch #20. Train Loss: 0.11963348824132994. ROC_AUC_val: 0.5\n"
          ]
        },
        {
          "output_type": "stream",
          "name": "stderr",
          "text": [
            "100%|██████████| 515/515 [00:25<00:00, 20.28it/s]\n"
          ]
        },
        {
          "output_type": "stream",
          "name": "stdout",
          "text": [
            "Epoch #21. Train Loss: 0.11648138130571946. ROC_AUC_val: 0.6333223104056437\n"
          ]
        },
        {
          "output_type": "stream",
          "name": "stderr",
          "text": [
            "100%|██████████| 515/515 [00:25<00:00, 20.37it/s]\n"
          ]
        },
        {
          "output_type": "stream",
          "name": "stdout",
          "text": [
            "Epoch #22. Train Loss: 0.11669823445596741. ROC_AUC_val: 0.5123456790123457\n"
          ]
        },
        {
          "output_type": "stream",
          "name": "stderr",
          "text": [
            "100%|██████████| 515/515 [00:25<00:00, 20.44it/s]\n"
          ]
        },
        {
          "output_type": "stream",
          "name": "stdout",
          "text": [
            "Epoch #23. Train Loss: 0.11577609051018953. ROC_AUC_val: 0.5427138447971781\n"
          ]
        },
        {
          "output_type": "stream",
          "name": "stderr",
          "text": [
            "100%|██████████| 515/515 [00:25<00:00, 19.99it/s]\n"
          ]
        },
        {
          "output_type": "stream",
          "name": "stdout",
          "text": [
            "Epoch #24. Train Loss: 0.11702194399046667. ROC_AUC_val: 0.6272734788359788\n"
          ]
        },
        {
          "output_type": "stream",
          "name": "stderr",
          "text": [
            "100%|██████████| 515/515 [00:25<00:00, 20.22it/s]\n"
          ]
        },
        {
          "output_type": "stream",
          "name": "stdout",
          "text": [
            "Epoch #25. Train Loss: 0.11493748720843815. ROC_AUC_val: 0.5492587081128748\n"
          ]
        },
        {
          "output_type": "stream",
          "name": "stderr",
          "text": [
            "100%|██████████| 515/515 [00:25<00:00, 20.48it/s]\n"
          ]
        },
        {
          "output_type": "stream",
          "name": "stdout",
          "text": [
            "Epoch #26. Train Loss: 0.11220272232606573. ROC_AUC_val: 0.6099950396825398\n"
          ]
        },
        {
          "output_type": "stream",
          "name": "stderr",
          "text": [
            "100%|██████████| 515/515 [00:25<00:00, 20.42it/s]\n"
          ]
        },
        {
          "output_type": "stream",
          "name": "stdout",
          "text": [
            "Epoch #27. Train Loss: 0.1113324382912042. ROC_AUC_val: 0.5738260582010581\n"
          ]
        },
        {
          "output_type": "stream",
          "name": "stderr",
          "text": [
            "100%|██████████| 515/515 [00:25<00:00, 19.83it/s]\n"
          ]
        },
        {
          "output_type": "stream",
          "name": "stdout",
          "text": [
            "Epoch #28. Train Loss: 0.10991214297133163. ROC_AUC_val: 0.5972773368606702\n"
          ]
        },
        {
          "output_type": "stream",
          "name": "stderr",
          "text": [
            "100%|██████████| 515/515 [00:25<00:00, 20.23it/s]\n"
          ]
        },
        {
          "output_type": "stream",
          "name": "stdout",
          "text": [
            "Epoch #29. Train Loss: 0.10862464625207545. ROC_AUC_val: 0.6223407186948853\n"
          ]
        },
        {
          "output_type": "stream",
          "name": "stderr",
          "text": [
            "100%|██████████| 515/515 [00:25<00:00, 20.42it/s]\n"
          ]
        },
        {
          "output_type": "stream",
          "name": "stdout",
          "text": [
            "Epoch #30. Train Loss: 0.10782893714901892. ROC_AUC_val: 0.6038222001763668\n"
          ]
        },
        {
          "output_type": "stream",
          "name": "stderr",
          "text": [
            "100%|██████████| 515/515 [00:25<00:00, 20.57it/s]\n"
          ]
        },
        {
          "output_type": "stream",
          "name": "stdout",
          "text": [
            "Epoch #31. Train Loss: 0.10812507029894053. ROC_AUC_val: 0.5965332892416225\n"
          ]
        },
        {
          "output_type": "stream",
          "name": "stderr",
          "text": [
            "100%|██████████| 515/515 [00:25<00:00, 20.23it/s]\n"
          ]
        },
        {
          "output_type": "stream",
          "name": "stdout",
          "text": [
            "Epoch #32. Train Loss: 0.10633622974663684. ROC_AUC_val: 0.5851796737213404\n"
          ]
        },
        {
          "output_type": "stream",
          "name": "stderr",
          "text": [
            "100%|██████████| 515/515 [00:26<00:00, 19.61it/s]\n"
          ]
        },
        {
          "output_type": "stream",
          "name": "stdout",
          "text": [
            "Epoch #33. Train Loss: 0.1058675086559746. ROC_AUC_val: 0.6035741843033509\n"
          ]
        },
        {
          "output_type": "stream",
          "name": "stderr",
          "text": [
            "100%|██████████| 515/515 [00:25<00:00, 20.43it/s]\n"
          ]
        },
        {
          "output_type": "stream",
          "name": "stdout",
          "text": [
            "Epoch #34. Train Loss: 0.10369722891092589. ROC_AUC_val: 0.585923721340388\n"
          ]
        },
        {
          "output_type": "stream",
          "name": "stderr",
          "text": [
            "100%|██████████| 515/515 [00:25<00:00, 20.14it/s]\n"
          ]
        },
        {
          "output_type": "stream",
          "name": "stdout",
          "text": [
            "Epoch #35. Train Loss: 0.10528909495299302. ROC_AUC_val: 0.5854276895943562\n"
          ]
        },
        {
          "output_type": "stream",
          "name": "stderr",
          "text": [
            "100%|██████████| 515/515 [00:25<00:00, 20.32it/s]\n"
          ]
        },
        {
          "output_type": "stream",
          "name": "stdout",
          "text": [
            "Epoch #36. Train Loss: 0.10283004908632595. ROC_AUC_val: 0.5304921737213404\n"
          ]
        },
        {
          "output_type": "stream",
          "name": "stderr",
          "text": [
            "100%|██████████| 515/515 [00:25<00:00, 20.42it/s]\n"
          ]
        },
        {
          "output_type": "stream",
          "name": "stdout",
          "text": [
            "Epoch #37. Train Loss: 0.10230829475212444. ROC_AUC_val: 0.5791308421516754\n"
          ]
        },
        {
          "output_type": "stream",
          "name": "stderr",
          "text": [
            "100%|██████████| 515/515 [00:25<00:00, 20.10it/s]\n"
          ]
        },
        {
          "output_type": "stream",
          "name": "stdout",
          "text": [
            "Epoch #38. Train Loss: 0.10237959081180466. ROC_AUC_val: 0.5612323633156967\n"
          ]
        },
        {
          "output_type": "stream",
          "name": "stderr",
          "text": [
            "100%|██████████| 515/515 [00:25<00:00, 20.57it/s]\n"
          ]
        },
        {
          "output_type": "stream",
          "name": "stdout",
          "text": [
            "Epoch #39. Train Loss: 0.10054192408846999. ROC_AUC_val: 0.5797508818342152\n"
          ]
        },
        {
          "output_type": "stream",
          "name": "stderr",
          "text": [
            "100%|██████████| 515/515 [00:26<00:00, 19.70it/s]\n"
          ]
        },
        {
          "output_type": "stream",
          "name": "stdout",
          "text": [
            "Epoch #40. Train Loss: 0.09907132912318684. ROC_AUC_val: 0.6447999338624338\n"
          ]
        },
        {
          "output_type": "stream",
          "name": "stderr",
          "text": [
            "100%|██████████| 515/515 [00:32<00:00, 15.67it/s]\n"
          ]
        },
        {
          "output_type": "stream",
          "name": "stdout",
          "text": [
            "Epoch #41. Train Loss: 0.09988795790676643. ROC_AUC_val: 0.6034501763668431\n"
          ]
        },
        {
          "output_type": "stream",
          "name": "stderr",
          "text": [
            "100%|██████████| 515/515 [00:29<00:00, 17.50it/s]\n"
          ]
        },
        {
          "output_type": "stream",
          "name": "stdout",
          "text": [
            "Epoch #42. Train Loss: 0.09802673821997585. ROC_AUC_val: 0.5674052028218695\n"
          ]
        },
        {
          "output_type": "stream",
          "name": "stderr",
          "text": [
            "100%|██████████| 515/515 [00:26<00:00, 19.41it/s]\n"
          ]
        },
        {
          "output_type": "stream",
          "name": "stdout",
          "text": [
            "Epoch #43. Train Loss: 0.09651117911471904. ROC_AUC_val: 0.5429618606701939\n"
          ]
        },
        {
          "output_type": "stream",
          "name": "stderr",
          "text": [
            "100%|██████████| 515/515 [00:25<00:00, 20.31it/s]\n"
          ]
        },
        {
          "output_type": "stream",
          "name": "stdout",
          "text": [
            "Epoch #44. Train Loss: 0.09634959866717747. ROC_AUC_val: 0.6275214947089948\n"
          ]
        },
        {
          "output_type": "stream",
          "name": "stderr",
          "text": [
            "100%|██████████| 515/515 [00:25<00:00, 20.07it/s]\n"
          ]
        },
        {
          "output_type": "stream",
          "name": "stdout",
          "text": [
            "Epoch #45. Train Loss: 0.09472172342385482. ROC_AUC_val: 0.5365410052910052\n"
          ]
        }
      ]
    },
    {
      "cell_type": "code",
      "source": [
        "print(\"Performance on validation dataset:\")\n",
        "evaluate(best_model, valid_loader, display=True)\n",
        "print(\"\\nPerformance on test dataset:\")\n",
        "evaluate(best_model, test_loader, display=True)"
      ],
      "metadata": {
        "colab": {
          "base_uri": "https://localhost:8080/"
        },
        "id": "W8Vj-YVzgemr",
        "outputId": "87c41a17-f6c9-4812-91d7-9a6999366918"
      },
      "execution_count": 33,
      "outputs": [
        {
          "output_type": "stream",
          "name": "stdout",
          "text": [
            "Performance on validation dataset:\n",
            "ROC AUC Score: 0.6447999338624338\n",
            "F1 Score: 0.3636363636363636\n",
            "Accuracy: 0.9795769511305616\n",
            "\n",
            "Performance on test dataset:\n",
            "ROC AUC Score: 0.5732826049170513\n",
            "F1 Score: 0.223463687150838\n",
            "Accuracy: 0.9662047167517627\n"
          ]
        }
      ]
    }
  ]
}