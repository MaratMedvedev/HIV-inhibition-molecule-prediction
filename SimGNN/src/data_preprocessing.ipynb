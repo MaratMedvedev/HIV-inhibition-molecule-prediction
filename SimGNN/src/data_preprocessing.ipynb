{
 "cells": [
  {
   "cell_type": "code",
   "execution_count": 5,
   "id": "initial_id",
   "metadata": {
    "collapsed": true,
    "ExecuteTime": {
     "end_time": "2023-12-09T20:03:03.630503900Z",
     "start_time": "2023-12-09T20:03:03.361443400Z"
    }
   },
   "outputs": [
    {
     "name": "stdout",
     "output_type": "stream",
     "text": [
      "Data(edge_index=[2, 40], edge_attr=[40, 3], x=[19, 9], y=[1, 1], num_nodes=19)\n"
     ]
    },
    {
     "name": "stderr",
     "output_type": "stream",
     "text": [
      "C:\\Users\\freid\\AppData\\Local\\Programs\\Python\\Python39\\lib\\site-packages\\torch_geometric\\deprecation.py:22: UserWarning: 'data.DataLoader' is deprecated, use 'loader.DataLoader' instead\n",
      "  warnings.warn(out)\n"
     ]
    }
   ],
   "source": [
    "from ogb.graphproppred import PygGraphPropPredDataset\n",
    "from torch_geometric.data import DataLoader\n",
    "\n",
    "dataset = PygGraphPropPredDataset(name=\"ogbg-molhiv\") \n",
    "split_idx = dataset.get_idx_split() \n",
    "train_loader = DataLoader(dataset[split_idx[\"train\"]], batch_size=32, shuffle=True)\n",
    "valid_loader = DataLoader(dataset[split_idx[\"valid\"]], batch_size=32, shuffle=False)\n",
    "test_loader = DataLoader(dataset[split_idx[\"test\"]], batch_size=32, shuffle=False)"
   ]
  },
  {
   "cell_type": "code",
   "execution_count": 6,
   "outputs": [
    {
     "name": "stdout",
     "output_type": "stream",
     "text": [
      "{'edge_index': tensor([[ 0,  1,  1,  2,  2,  3,  3,  4,  4,  5,  5,  6,  6,  7,  7,  8,  8,  9,\n",
      "          9, 10, 10, 11, 10, 12, 12, 13, 13, 14, 14, 15, 14, 16, 14, 17,  4, 18,\n",
      "         18, 19, 19, 20, 19, 21, 19, 22, 18, 23, 23,  1, 13,  7],\n",
      "        [ 1,  0,  2,  1,  3,  2,  4,  3,  5,  4,  6,  5,  7,  6,  8,  7,  9,  8,\n",
      "         10,  9, 11, 10, 12, 10, 13, 12, 14, 13, 15, 14, 16, 14, 17, 14, 18,  4,\n",
      "         19, 18, 20, 19, 21, 19, 22, 19, 23, 18,  1, 23,  7, 13]]), 'edge_attr': tensor([[0, 0, 1],\n",
      "        [0, 0, 1],\n",
      "        [3, 0, 1],\n",
      "        [3, 0, 1],\n",
      "        [3, 0, 1],\n",
      "        [3, 0, 1],\n",
      "        [3, 0, 1],\n",
      "        [3, 0, 1],\n",
      "        [0, 0, 1],\n",
      "        [0, 0, 1],\n",
      "        [1, 0, 1],\n",
      "        [1, 0, 1],\n",
      "        [0, 0, 1],\n",
      "        [0, 0, 1],\n",
      "        [3, 0, 1],\n",
      "        [3, 0, 1],\n",
      "        [3, 0, 1],\n",
      "        [3, 0, 1],\n",
      "        [3, 0, 1],\n",
      "        [3, 0, 1],\n",
      "        [0, 0, 1],\n",
      "        [0, 0, 1],\n",
      "        [3, 0, 1],\n",
      "        [3, 0, 1],\n",
      "        [3, 0, 1],\n",
      "        [3, 0, 1],\n",
      "        [0, 0, 0],\n",
      "        [0, 0, 0],\n",
      "        [1, 0, 0],\n",
      "        [1, 0, 0],\n",
      "        [1, 0, 0],\n",
      "        [1, 0, 0],\n",
      "        [0, 0, 0],\n",
      "        [0, 0, 0],\n",
      "        [3, 0, 1],\n",
      "        [3, 0, 1],\n",
      "        [0, 0, 0],\n",
      "        [0, 0, 0],\n",
      "        [1, 0, 0],\n",
      "        [1, 0, 0],\n",
      "        [1, 0, 0],\n",
      "        [1, 0, 0],\n",
      "        [0, 0, 0],\n",
      "        [0, 0, 0],\n",
      "        [3, 0, 1],\n",
      "        [3, 0, 1],\n",
      "        [3, 0, 1],\n",
      "        [3, 0, 1],\n",
      "        [3, 0, 1],\n",
      "        [3, 0, 1]]), 'x': tensor([[ 6,  0,  3,  5,  2,  0,  1,  0,  0],\n",
      "        [ 5,  0,  3,  5,  0,  0,  1,  1,  1],\n",
      "        [ 5,  0,  3,  5,  1,  0,  1,  1,  1],\n",
      "        [ 5,  0,  3,  5,  1,  0,  1,  1,  1],\n",
      "        [ 5,  0,  3,  5,  0,  0,  1,  1,  1],\n",
      "        [ 5,  0,  3,  5,  1,  0,  1,  0,  0],\n",
      "        [ 5,  0,  3,  5,  1,  0,  1,  0,  0],\n",
      "        [ 5,  0,  3,  5,  0,  0,  1,  1,  1],\n",
      "        [ 5,  0,  3,  5,  1,  0,  1,  1,  1],\n",
      "        [ 5,  0,  3,  5,  1,  0,  1,  1,  1],\n",
      "        [ 5,  0,  3,  5,  0,  0,  1,  1,  1],\n",
      "        [ 6,  0,  3,  5,  2,  0,  1,  0,  0],\n",
      "        [ 5,  0,  3,  5,  1,  0,  1,  1,  1],\n",
      "        [ 5,  0,  3,  5,  0,  0,  1,  1,  1],\n",
      "        [15,  0,  4,  5,  0,  0,  2,  0,  0],\n",
      "        [ 7,  0,  1,  5,  0,  0,  1,  0,  0],\n",
      "        [ 7,  0,  1,  5,  0,  0,  1,  0,  0],\n",
      "        [ 7,  0,  2,  5,  1,  0,  2,  0,  0],\n",
      "        [ 5,  0,  3,  5,  0,  0,  1,  1,  1],\n",
      "        [15,  0,  4,  5,  0,  0,  2,  0,  0],\n",
      "        [ 7,  0,  1,  5,  0,  0,  1,  0,  0],\n",
      "        [ 7,  0,  1,  5,  0,  0,  1,  0,  0],\n",
      "        [ 7,  0,  2,  5,  1,  0,  2,  0,  0],\n",
      "        [ 5,  0,  3,  5,  1,  0,  1,  1,  1]]), 'y': tensor([[0]]), 'num_nodes': 24}\n"
     ]
    }
   ],
   "source": [
    "for i in train_loader.dataset:\n",
    "    print(i.to_dict())\n",
    "    break"
   ],
   "metadata": {
    "collapsed": false,
    "ExecuteTime": {
     "end_time": "2023-12-09T20:04:19.340085500Z",
     "start_time": "2023-12-09T20:04:19.311388Z"
    }
   },
   "id": "5c7bd54d799865d1"
  },
  {
   "cell_type": "code",
   "execution_count": null,
   "outputs": [],
   "source": [],
   "metadata": {
    "collapsed": false
   },
   "id": "9444b07679b7bd6a"
  }
 ],
 "metadata": {
  "kernelspec": {
   "display_name": "Python 3",
   "language": "python",
   "name": "python3"
  },
  "language_info": {
   "codemirror_mode": {
    "name": "ipython",
    "version": 2
   },
   "file_extension": ".py",
   "mimetype": "text/x-python",
   "name": "python",
   "nbconvert_exporter": "python",
   "pygments_lexer": "ipython2",
   "version": "2.7.6"
  }
 },
 "nbformat": 4,
 "nbformat_minor": 5
}
